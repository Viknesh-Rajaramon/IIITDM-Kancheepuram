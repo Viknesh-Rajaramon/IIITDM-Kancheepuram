{
 "cells": [
  {
   "cell_type": "markdown",
   "metadata": {
    "id": "Uy_mMk2sgN1K"
   },
   "source": [
    "# Q1. Train a **single perceptron and SVM** to learn an AND gate with two inputs x1 and x2. Assume that all the weights of the perceptron are initialized as 0. Show the calulation for each step and also draw the decision boundary for each updation."
   ]
  },
  {
   "cell_type": "markdown",
   "metadata": {
    "id": "YxxgVJYLgSHW"
   },
   "source": [
    "### Importing the necessary libraries"
   ]
  },
  {
   "cell_type": "code",
   "execution_count": null,
   "metadata": {
    "id": "hfkp-_UfgGft"
   },
   "outputs": [],
   "source": [
    "import numpy as np\n",
    "import pandas as pd\n",
    "import matplotlib.pyplot as plt\n",
    "import seaborn as sns\n",
    "from cvxopt import matrix, solvers"
   ]
  },
  {
   "cell_type": "markdown",
   "metadata": {
    "id": "GeSNPdnRfdn4"
   },
   "source": [
    "## Single Perceptron"
   ]
  },
  {
   "cell_type": "markdown",
   "metadata": {
    "id": "-stEXua8gUHk"
   },
   "source": [
    "### Defining the necessary functions used"
   ]
  },
  {
   "cell_type": "code",
   "execution_count": null,
   "metadata": {
    "id": "nbtEitpPgRaR"
   },
   "outputs": [],
   "source": [
    "def decision_plot(w, x_min, x_max, y_min, y_max):\n",
    "    inp_0 = []\n",
    "    inp_1 = []\n",
    "\n",
    "    x_min = x_min - np.abs(((x_max - x_min) / 10))\n",
    "    y_min = y_min - np.abs(((y_max - y_min) / 10))\n",
    "\n",
    "    x_max = x_max + np.abs(((x_max - x_min) / 10))\n",
    "    y_max = y_max + np.abs(((y_max - y_min) / 10))\n",
    "\n",
    "    for i in np.arange(x_min, x_max, np.abs(x_max - x_min) / 100):\n",
    "        for j in np.arange(y_min, y_max, np.abs(x_max - x_min) / 100):\n",
    "            y_pred = np.dot(np.array([[1, i, j]]), w)\n",
    "            \n",
    "            if y_pred < 0:\n",
    "                inp_0.append(np.array((i, j)))\n",
    "            \n",
    "            else:\n",
    "                inp_1.append(np.array((i, j)))\n",
    "\n",
    "    return inp_0, inp_1"
   ]
  },
  {
   "cell_type": "code",
   "execution_count": null,
   "metadata": {
    "id": "dXBAyQB1gXRv"
   },
   "outputs": [],
   "source": [
    "def perceptron_training_alg(X, Y, learning_rate):\n",
    "  # Adding Bias to the input and Randomly initializing weights\n",
    "  num_samples, num_features = X.shape\n",
    "  \n",
    "  X = np.hstack((np.ones((num_samples, 1)), X))\n",
    "  W = np.zeros(num_features + 1).reshape((-1, 1))\n",
    "\n",
    "  weight_vector = []\n",
    "  weight_vector.append(W)\n",
    "\n",
    "  print(W, \"\\n\")\n",
    "  \n",
    "  # Running the algorithm until all the data points are correctly classified\n",
    "  samples_misclassified = True\n",
    "  cnt=0\n",
    "  while samples_misclassified and cnt < 100000:\n",
    "    # Initially we'll assume that there are no misclassified samples\n",
    "    samples_misclassified = False\n",
    "    \n",
    "    for index, x in enumerate(X):\n",
    "      if cnt >= 100000:\n",
    "        return W, np.array(weight_vector)\n",
    "      \n",
    "      x = Y[index] * x\n",
    "      \n",
    "      if np.dot(x.reshape((1, -1)), W) <= 0: # if samples misclassified\n",
    "        samples_misclassified = True\n",
    "        W = W + (learning_rate * x.reshape((-1,1)))     # Gradient Descent Step\n",
    "        weight_vector.append(W)\n",
    "\n",
    "        print(W, \"\\n\")\n",
    "        cnt += 1\n",
    "  \n",
    "  return W, np.array(weight_vector)"
   ]
  },
  {
   "cell_type": "code",
   "execution_count": null,
   "metadata": {
    "id": "-V33s0nRnrUR"
   },
   "outputs": [],
   "source": [
    "def sorter(X, Y):\n",
    "  X_new0 = []\n",
    "  Y_new0 = []\n",
    "  \n",
    "  X_new1 = []\n",
    "  Y_new1 = []\n",
    "  \n",
    "  for x, y in zip(X, Y):\n",
    "    if y == 0:\n",
    "      Y_new0.append(y)\n",
    "      X_new0.append(x)\n",
    "    \n",
    "    else:\n",
    "      Y_new1.append(y)\n",
    "      X_new1.append(x)\n",
    "  \n",
    "  X0 = []\n",
    "  Y0 = []\n",
    "  \n",
    "  X1 = []\n",
    "  Y1 = []\n",
    "\n",
    "  if len(X_new0) > 0:\n",
    "    X0 = np.stack(X_new0)\n",
    "    Y0 = np.stack(Y_new0)\n",
    "  \n",
    "  elif len(X_new1) > 0:\n",
    "    X1 = np.stack(X_new1)\n",
    "    Y1 = np.stack(Y_new1)\n",
    "  \n",
    "  if len(X0) > 0 and len(X1) > 0:\n",
    "    X = np.concatenate((X0, X1))\n",
    "    Y = np.concatenate((Y0, Y1))\n",
    "  \n",
    "  elif len(X0) > 0:\n",
    "    X = X0\n",
    "    Y = Y0\n",
    "  \n",
    "  else:\n",
    "    X = X1\n",
    "    Y = Y1\n",
    "  \n",
    "  return X, Y"
   ]
  },
  {
   "cell_type": "code",
   "execution_count": null,
   "metadata": {
    "id": "t87KWMl_gXUI"
   },
   "outputs": [],
   "source": [
    "def decision_boundary(W, X, Y):\n",
    "  X, Y = sorter(X, Y)\n",
    "  num_samples, num_features = X.shape\n",
    "  np2 = np.hstack((np.ones((num_samples, 1)), X))\n",
    "  \n",
    "  X=np2\n",
    "  \n",
    "  x1, y1 = decision_plot(W, min(X[:,1]), max(X[:,1]), min(X[:,2]), max(X[:,2]))\n",
    "  \n",
    "  plt.scatter([i[0] for i in x1], [i[1] for i in x1])\n",
    "  plt.scatter([i[0] for i in y1], [i[1] for i in y1])\n",
    "  plt.scatter(X[:np.argmax(Y), 1], X[:np.argmax(Y), 2])\n",
    "  plt.scatter(X[np.argmax(Y):, 1], X[np.argmax(Y):, 2])\n",
    "  plt.show()"
   ]
  },
  {
   "cell_type": "markdown",
   "metadata": {
    "id": "5AVRpKAUhYyS"
   },
   "source": [
    "### Code"
   ]
  },
  {
   "cell_type": "code",
   "execution_count": null,
   "metadata": {
    "colab": {
     "base_uri": "https://localhost:8080/"
    },
    "id": "iSbpBbaGgXWm",
    "outputId": "949dc509-4b9b-499e-dbc5-74b0fda6bf9b"
   },
   "outputs": [
    {
     "data": {
      "text/plain": [
       "4"
      ]
     },
     "execution_count": 6,
     "metadata": {
      "tags": []
     },
     "output_type": "execute_result"
    }
   ],
   "source": [
    "X = np.array([[1, 1], [0, 1], [1, 0], [0, 0]])\n",
    "Y = np.array([[1], [-1], [-1], [-1]])\n",
    "ans = np.array([[1], [0], [0], [0]])\n",
    "\n",
    "len(X)"
   ]
  },
  {
   "cell_type": "code",
   "execution_count": null,
   "metadata": {
    "colab": {
     "base_uri": "https://localhost:8080/"
    },
    "id": "RkBw3xSYgXY5",
    "outputId": "89c2a056-cb1c-440f-e39a-37a78c0c2994"
   },
   "outputs": [
    {
     "name": "stdout",
     "output_type": "stream",
     "text": [
      "[[0.]\n",
      " [0.]\n",
      " [0.]] \n",
      "\n",
      "[[0.5]\n",
      " [0.5]\n",
      " [0.5]] \n",
      "\n",
      "[[0. ]\n",
      " [0.5]\n",
      " [0. ]] \n",
      "\n",
      "[[-0.5]\n",
      " [ 0. ]\n",
      " [ 0. ]] \n",
      "\n",
      "[[0. ]\n",
      " [0.5]\n",
      " [0.5]] \n",
      "\n",
      "[[-0.5]\n",
      " [ 0.5]\n",
      " [ 0. ]] \n",
      "\n",
      "[[-1.]\n",
      " [ 0.]\n",
      " [ 0.]] \n",
      "\n",
      "[[-0.5]\n",
      " [ 0.5]\n",
      " [ 0.5]] \n",
      "\n",
      "[[-1. ]\n",
      " [ 0.5]\n",
      " [ 0. ]] \n",
      "\n",
      "[[-0.5]\n",
      " [ 1. ]\n",
      " [ 0.5]] \n",
      "\n",
      "[[-1.]\n",
      " [ 1.]\n",
      " [ 0.]] \n",
      "\n",
      "[[-1.5]\n",
      " [ 0.5]\n",
      " [ 0. ]] \n",
      "\n",
      "[[-1. ]\n",
      " [ 1. ]\n",
      " [ 0.5]] \n",
      "\n",
      "[[-1.5]\n",
      " [ 0.5]\n",
      " [ 0.5]] \n",
      "\n",
      "[[-1.]\n",
      " [ 1.]\n",
      " [ 1.]] \n",
      "\n",
      "[[-1.5]\n",
      " [ 1. ]\n",
      " [ 0.5]] \n",
      "\n",
      "[[-1. ]\n",
      " [ 1.5]\n",
      " [ 1. ]] \n",
      "\n",
      "[[-1.5]\n",
      " [ 1.5]\n",
      " [ 0.5]] \n",
      "\n",
      "[[-2. ]\n",
      " [ 1. ]\n",
      " [ 0.5]] \n",
      "\n",
      "[[-1.5]\n",
      " [ 1.5]\n",
      " [ 1. ]] \n",
      "\n",
      "[[-2.]\n",
      " [ 1.]\n",
      " [ 1.]] \n",
      "\n",
      "[[-1.5]\n",
      " [ 1.5]\n",
      " [ 1.5]] \n",
      "\n",
      "[[-2. ]\n",
      " [ 1.5]\n",
      " [ 1. ]] \n",
      "\n"
     ]
    }
   ],
   "source": [
    "W, weight_vector = perceptron_training_alg(X, Y, 0.5)"
   ]
  },
  {
   "cell_type": "code",
   "execution_count": null,
   "metadata": {
    "colab": {
     "base_uri": "https://localhost:8080/"
    },
    "id": "gshYxGJigXbG",
    "outputId": "4c4d1846-100a-44c5-f205-dca8c2713435"
   },
   "outputs": [
    {
     "data": {
      "text/plain": [
       "array([[-2. ],\n",
       "       [ 1.5],\n",
       "       [ 1. ]])"
      ]
     },
     "execution_count": 8,
     "metadata": {
      "tags": []
     },
     "output_type": "execute_result"
    }
   ],
   "source": [
    "W"
   ]
  },
  {
   "cell_type": "code",
   "execution_count": null,
   "metadata": {
    "colab": {
     "base_uri": "https://localhost:8080/"
    },
    "id": "GEEYBQ7thNmj",
    "outputId": "26a37b1f-9147-4019-9563-e1160e3e9c8e"
   },
   "outputs": [
    {
     "data": {
      "text/plain": [
       "array([[[ 0. ],\n",
       "        [ 0. ],\n",
       "        [ 0. ]],\n",
       "\n",
       "       [[ 0.5],\n",
       "        [ 0.5],\n",
       "        [ 0.5]],\n",
       "\n",
       "       [[ 0. ],\n",
       "        [ 0.5],\n",
       "        [ 0. ]],\n",
       "\n",
       "       [[-0.5],\n",
       "        [ 0. ],\n",
       "        [ 0. ]],\n",
       "\n",
       "       [[ 0. ],\n",
       "        [ 0.5],\n",
       "        [ 0.5]],\n",
       "\n",
       "       [[-0.5],\n",
       "        [ 0.5],\n",
       "        [ 0. ]],\n",
       "\n",
       "       [[-1. ],\n",
       "        [ 0. ],\n",
       "        [ 0. ]],\n",
       "\n",
       "       [[-0.5],\n",
       "        [ 0.5],\n",
       "        [ 0.5]],\n",
       "\n",
       "       [[-1. ],\n",
       "        [ 0.5],\n",
       "        [ 0. ]],\n",
       "\n",
       "       [[-0.5],\n",
       "        [ 1. ],\n",
       "        [ 0.5]],\n",
       "\n",
       "       [[-1. ],\n",
       "        [ 1. ],\n",
       "        [ 0. ]],\n",
       "\n",
       "       [[-1.5],\n",
       "        [ 0.5],\n",
       "        [ 0. ]],\n",
       "\n",
       "       [[-1. ],\n",
       "        [ 1. ],\n",
       "        [ 0.5]],\n",
       "\n",
       "       [[-1.5],\n",
       "        [ 0.5],\n",
       "        [ 0.5]],\n",
       "\n",
       "       [[-1. ],\n",
       "        [ 1. ],\n",
       "        [ 1. ]],\n",
       "\n",
       "       [[-1.5],\n",
       "        [ 1. ],\n",
       "        [ 0.5]],\n",
       "\n",
       "       [[-1. ],\n",
       "        [ 1.5],\n",
       "        [ 1. ]],\n",
       "\n",
       "       [[-1.5],\n",
       "        [ 1.5],\n",
       "        [ 0.5]],\n",
       "\n",
       "       [[-2. ],\n",
       "        [ 1. ],\n",
       "        [ 0.5]],\n",
       "\n",
       "       [[-1.5],\n",
       "        [ 1.5],\n",
       "        [ 1. ]],\n",
       "\n",
       "       [[-2. ],\n",
       "        [ 1. ],\n",
       "        [ 1. ]],\n",
       "\n",
       "       [[-1.5],\n",
       "        [ 1.5],\n",
       "        [ 1.5]],\n",
       "\n",
       "       [[-2. ],\n",
       "        [ 1.5],\n",
       "        [ 1. ]]])"
      ]
     },
     "execution_count": 9,
     "metadata": {
      "tags": []
     },
     "output_type": "execute_result"
    }
   ],
   "source": [
    "weight_vector"
   ]
  },
  {
   "cell_type": "code",
   "execution_count": null,
   "metadata": {
    "colab": {
     "base_uri": "https://localhost:8080/",
     "height": 1000
    },
    "id": "_t6wKq7GgXdP",
    "outputId": "7e621a15-a8f5-43bf-9419-4c6168969d76"
   },
   "outputs": [
    {
     "data": {
      "image/png": "[encoded data removed]",
      "text/plain": [
       "<Figure size 432x288 with 1 Axes>"
      ]
     },
     "metadata": {
      "needs_background": "light",
      "tags": []
     },
     "output_type": "display_data"
    },
    {
     "data": {
      "image/png": "[encoded data removed]",
      "text/plain": [
       "<Figure size 432x288 with 1 Axes>"
      ]
     },
     "metadata": {
      "needs_background": "light",
      "tags": []
     },
     "output_type": "display_data"
    },
    {
     "data": {
      "image/png": "[encoded data removed]",
      "text/plain": [
       "<Figure size 432x288 with 1 Axes>"
      ]
     },
     "metadata": {
      "needs_background": "light",
      "tags": []
     },
     "output_type": "display_data"
    },
    {
     "data": {
      "image/png": "[encoded data removed]",
      "text/plain": [
       "<Figure size 432x288 with 1 Axes>"
      ]
     },
     "metadata": {
      "needs_background": "light",
      "tags": []
     },
     "output_type": "display_data"
    },
    {
     "data": {
      "image/png": "[encoded data removed]",
      "text/plain": [
       "<Figure size 432x288 with 1 Axes>"
      ]
     },
     "metadata": {
      "needs_background": "light",
      "tags": []
     },
     "output_type": "display_data"
    },
    {
     "data": {
      "image/png": "[encoded data removed]",
      "text/plain": [
       "<Figure size 432x288 with 1 Axes>"
      ]
     },
     "metadata": {
      "needs_background": "light",
      "tags": []
     },
     "output_type": "display_data"
    },
    {
     "data": {
      "image/png": "[encoded data removed]",
      "text/plain": [
       "<Figure size 432x288 with 1 Axes>"
      ]
     },
     "metadata": {
      "needs_background": "light",
      "tags": []
     },
     "output_type": "display_data"
    },
    {
     "data": {
      "image/png": "[encoded data removed]",
      "text/plain": [
       "<Figure size 432x288 with 1 Axes>"
      ]
     },
     "metadata": {
      "needs_background": "light",
      "tags": []
     },
     "output_type": "display_data"
    },
    {
     "data": {
      "image/png": "[encoded data removed]",
      "text/plain": [
       "<Figure size 432x288 with 1 Axes>"
      ]
     },
     "metadata": {
      "needs_background": "light",
      "tags": []
     },
     "output_type": "display_data"
    },
    {
     "data": {
      "image/png": "[encoded data removed]",
      "text/plain": [
       "<Figure size 432x288 with 1 Axes>"
      ]
     },
     "metadata": {
      "needs_background": "light",
      "tags": []
     },
     "output_type": "display_data"
    },
    {
     "data": {
      "image/png": "[encoded data removed]",
      "text/plain": [
       "<Figure size 432x288 with 1 Axes>"
      ]
     },
     "metadata": {
      "needs_background": "light",
      "tags": []
     },
     "output_type": "display_data"
    },
    {
     "data": {
      "image/png": "[encoded data removed]",
      "text/plain": [
       "<Figure size 432x288 with 1 Axes>"
      ]
     },
     "metadata": {
      "needs_background": "light",
      "tags": []
     },
     "output_type": "display_data"
    },
    {
     "data": {
      "image/png": "[encoded data removed]",
      "text/plain": [
       "<Figure size 432x288 with 1 Axes>"
      ]
     },
     "metadata": {
      "needs_background": "light",
      "tags": []
     },
     "output_type": "display_data"
    },
    {
     "data": {
      "image/png": "[encoded data removed]",
      "text/plain": [
       "<Figure size 432x288 with 1 Axes>"
      ]
     },
     "metadata": {
      "needs_background": "light",
      "tags": []
     },
     "output_type": "display_data"
    },
    {
     "data": {
      "image/png": "[encoded data removed]",
      "text/plain": [
       "<Figure size 432x288 with 1 Axes>"
      ]
     },
     "metadata": {
      "needs_background": "light",
      "tags": []
     },
     "output_type": "display_data"
    },
    {
     "data": {
      "image/png": "[encoded data removed]",
      "text/plain": [
       "<Figure size 432x288 with 1 Axes>"
      ]
     },
     "metadata": {
      "needs_background": "light",
      "tags": []
     },
     "output_type": "display_data"
    },
    {
     "data": {
      "image/png": "[encoded data removed]",
      "text/plain": [
       "<Figure size 432x288 with 1 Axes>"
      ]
     },
     "metadata": {
      "needs_background": "light",
      "tags": []
     },
     "output_type": "display_data"
    },
    {
     "data": {
      "image/png": "[encoded data removed]",
      "text/plain": [
       "<Figure size 432x288 with 1 Axes>"
      ]
     },
     "metadata": {
      "needs_background": "light",
      "tags": []
     },
     "output_type": "display_data"
    },
    {
     "data": {
      "image/png": "[encoded data removed]",
      "text/plain": [
       "<Figure size 432x288 with 1 Axes>"
      ]
     },
     "metadata": {
      "needs_background": "light",
      "tags": []
     },
     "output_type": "display_data"
    },
    {
     "data": {
      "image/png": "[encoded data removed]",
      "text/plain": [
       "<Figure size 432x288 with 1 Axes>"
      ]
     },
     "metadata": {
      "needs_background": "light",
      "tags": []
     },
     "output_type": "display_data"
    },
    {
     "data": {
      "image/png": "[encoded data removed]",
      "text/plain": [
       "<Figure size 432x288 with 1 Axes>"
      ]
     },
     "metadata": {
      "needs_background": "light",
      "tags": []
     },
     "output_type": "display_data"
    },
    {
     "data": {
      "image/png": "[encoded data removed]",
      "text/plain": [
       "<Figure size 432x288 with 1 Axes>"
      ]
     },
     "metadata": {
      "needs_background": "light",
      "tags": []
     },
     "output_type": "display_data"
    },
    {
     "data": {
      "image/png": "[encoded data removed]",
      "text/plain": [
       "<Figure size 432x288 with 1 Axes>"
      ]
     },
     "metadata": {
      "needs_background": "light",
      "tags": []
     },
     "output_type": "display_data"
    }
   ],
   "source": [
    "for w in weight_vector:\n",
    "  decision_boundary(w, X, ans)"
   ]
  },
  {
   "cell_type": "markdown",
   "metadata": {
    "id": "RZFrzq5Afk4b"
   },
   "source": [
    "## SVM"
   ]
  },
  {
   "cell_type": "markdown",
   "metadata": {
    "id": "ML0Wt1CNxuHy"
   },
   "source": [
    "### Defining the necessary functions used"
   ]
  },
  {
   "cell_type": "code",
   "execution_count": null,
   "metadata": {
    "id": "W4r4oWlZfoi3"
   },
   "outputs": [],
   "source": [
    "def SVM(C1, C2):\n",
    "  x1 = np.array(C1.to_numpy())\n",
    "  x2 = np.array(C2.to_numpy())\n",
    "\n",
    "  x = np.vstack((x1, x2))\n",
    "  y = np.hstack((np.ones(len(x1)), np.ones(len(x2)) * -1))\n",
    "  \n",
    "  X = np.dot(x, np.transpose(x))\n",
    "  Y = np.outer(y, y)\n",
    "\n",
    "  n = X.shape[0]\n",
    "\n",
    "  H = matrix(Y * X)\n",
    "  f = matrix(np.ones(n) * -1)\n",
    "  A = matrix(np.diag(np.ones(n) * -1))\n",
    "  a = matrix(np.zeros(n))\n",
    "  B = matrix(y, (1, n))  \n",
    "  b = matrix(0.0)\n",
    "  \n",
    "  # solve QP problem\n",
    "  solution = solvers.qp(H, f, A, a, B, b)\n",
    "  print('')\n",
    "\n",
    "  # Lagrange multipliers\n",
    "  t1 = np.ravel(solution['x'])\n",
    "  \n",
    "  # Support vectors have non zero lagrange multipliers\n",
    "  for i in range(0, len(t1)):\n",
    "    if(t1[i] < 1e-4):\n",
    "      t1[i] = 0.0\n",
    "    else:\n",
    "      t1[i] = round(t1[i], 4)\n",
    "  \n",
    "  t1 = np.array(t1)\n",
    "  print(t1)\n",
    "\n",
    "  # Weight vector\n",
    "  w = np.zeros(X.shape[1])\n",
    "  for i in range(X.shape[1]):\n",
    "    w[i] = t1[i] * y[i]\n",
    "  \n",
    "  w = np.dot(w, x)\n",
    "  \n",
    "  # Intercept\n",
    "  b = 0\n",
    "  for i in range(len(t1)):\n",
    "    if(t1[i] != 0.0):\n",
    "      b = round(1 - np.dot(w, np.transpose(x[i])), 4)\n",
    "      break\n",
    "  \n",
    "  return w, b"
   ]
  },
  {
   "cell_type": "markdown",
   "metadata": {
    "id": "lUZi1nA3xuwN"
   },
   "source": [
    "### Code"
   ]
  },
  {
   "cell_type": "code",
   "execution_count": null,
   "metadata": {
    "colab": {
     "base_uri": "https://localhost:8080/",
     "height": 136
    },
    "id": "eAcFncGHxwOZ",
    "outputId": "94429ace-8c59-4811-91d1-ce258299354c"
   },
   "outputs": [
    {
     "data": {
      "text/html": [
       "<div>\n",
       "<style scoped>\n",
       "    .dataframe tbody tr th:only-of-type {\n",
       "        vertical-align: middle;\n",
       "    }\n",
       "\n",
       "    .dataframe tbody tr th {\n",
       "        vertical-align: top;\n",
       "    }\n",
       "\n",
       "    .dataframe thead th {\n",
       "        text-align: right;\n",
       "    }\n",
       "</style>\n",
       "<table border=\"1\" class=\"dataframe\">\n",
       "  <thead>\n",
       "    <tr style=\"text-align: right;\">\n",
       "      <th></th>\n",
       "      <th>0</th>\n",
       "      <th>1</th>\n",
       "    </tr>\n",
       "  </thead>\n",
       "  <tbody>\n",
       "    <tr>\n",
       "      <th>0</th>\n",
       "      <td>0</td>\n",
       "      <td>0</td>\n",
       "    </tr>\n",
       "    <tr>\n",
       "      <th>1</th>\n",
       "      <td>0</td>\n",
       "      <td>1</td>\n",
       "    </tr>\n",
       "    <tr>\n",
       "      <th>2</th>\n",
       "      <td>1</td>\n",
       "      <td>0</td>\n",
       "    </tr>\n",
       "  </tbody>\n",
       "</table>\n",
       "</div>"
      ],
      "text/plain": [
       "   0  1\n",
       "0  0  0\n",
       "1  0  1\n",
       "2  1  0"
      ]
     },
     "execution_count": 12,
     "metadata": {
      "tags": []
     },
     "output_type": "execute_result"
    }
   ],
   "source": [
    "X = [[0, 0], [0, 1], [1, 0]]\n",
    "\n",
    "C1 = pd.DataFrame(X)\n",
    "C1"
   ]
  },
  {
   "cell_type": "code",
   "execution_count": null,
   "metadata": {
    "colab": {
     "base_uri": "https://localhost:8080/",
     "height": 77
    },
    "id": "0cJpVxpaRoM9",
    "outputId": "438b98fb-372a-43de-c240-a2ad48f5793f"
   },
   "outputs": [
    {
     "data": {
      "text/html": [
       "<div>\n",
       "<style scoped>\n",
       "    .dataframe tbody tr th:only-of-type {\n",
       "        vertical-align: middle;\n",
       "    }\n",
       "\n",
       "    .dataframe tbody tr th {\n",
       "        vertical-align: top;\n",
       "    }\n",
       "\n",
       "    .dataframe thead th {\n",
       "        text-align: right;\n",
       "    }\n",
       "</style>\n",
       "<table border=\"1\" class=\"dataframe\">\n",
       "  <thead>\n",
       "    <tr style=\"text-align: right;\">\n",
       "      <th></th>\n",
       "      <th>0</th>\n",
       "      <th>1</th>\n",
       "    </tr>\n",
       "  </thead>\n",
       "  <tbody>\n",
       "    <tr>\n",
       "      <th>0</th>\n",
       "      <td>1</td>\n",
       "      <td>1</td>\n",
       "    </tr>\n",
       "  </tbody>\n",
       "</table>\n",
       "</div>"
      ],
      "text/plain": [
       "   0  1\n",
       "0  1  1"
      ]
     },
     "execution_count": 13,
     "metadata": {
      "tags": []
     },
     "output_type": "execute_result"
    }
   ],
   "source": [
    "X = [[1, 1]]\n",
    "\n",
    "C2 = pd.DataFrame(X)\n",
    "C2"
   ]
  },
  {
   "cell_type": "code",
   "execution_count": null,
   "metadata": {
    "colab": {
     "base_uri": "https://localhost:8080/"
    },
    "id": "f6fDvyh7RoJk",
    "outputId": "c7036ef9-4332-4cd0-f29a-dae27fba68f4"
   },
   "outputs": [
    {
     "name": "stdout",
     "output_type": "stream",
     "text": [
      "     pcost       dcost       gap    pres   dres\n",
      " 0: -1.7500e+00 -4.2500e+00  8e+00  2e+00  2e+00\n",
      " 1: -3.6653e+00 -4.3941e+00  1e+00  3e-01  3e-01\n",
      " 2: -3.9945e+00 -4.0256e+00  3e-02  2e-15  3e-16\n",
      " 3: -3.9999e+00 -4.0003e+00  3e-04  1e-15  4e-16\n",
      " 4: -4.0000e+00 -4.0000e+00  3e-06  2e-15  4e-16\n",
      "Optimal solution found.\n",
      "\n",
      "[0. 2. 2. 4.]\n",
      "[-2. -2.]\n",
      "\n",
      "3.0\n"
     ]
    }
   ],
   "source": [
    "w, b = SVM(C1, C2)\n",
    "\n",
    "\n",
    "print(w)\n",
    "print('')\n",
    "print(b)"
   ]
  },
  {
   "cell_type": "code",
   "execution_count": null,
   "metadata": {
    "colab": {
     "base_uri": "https://localhost:8080/",
     "height": 265
    },
    "id": "eEROjyy4RsXT",
    "outputId": "10310c96-5707-498b-b3bf-88ecdc8c2e9c"
   },
   "outputs": [
    {
     "data": {
      "image/png": "[encoded data removed]",
      "text/plain": [
       "<Figure size 432x288 with 1 Axes>"
      ]
     },
     "metadata": {
      "needs_background": "light",
      "tags": []
     },
     "output_type": "display_data"
    }
   ],
   "source": [
    "x1 = np.arange(-0.01, 1.1, 0.01)\n",
    "\n",
    "plt.scatter(C1.iloc[:, [0]], C1.iloc[:, [1]], label = 'Class 1', color = '#FF0000')\n",
    "plt.scatter(C2.iloc[:, [0]], C2.iloc[:, [1]], label = 'Class 2', color = '#00FF00')\n",
    "plt.legend()\n",
    "  \n",
    "slope, c = -w[0] / w[1], -b / w[1]\n",
    "plt.plot(x1, slope * x1 + c)\n",
    "plt.show()"
   ]
  }
 ],
 "metadata": {
  "colab": {
   "collapsed_sections": [],
   "name": "PR_Assignment4_Q1.ipynb",
   "provenance": []
  },
  "kernelspec": {
   "display_name": "Python 3",
   "language": "python",
   "name": "python3"
  },
  "language_info": {
   "codemirror_mode": {
    "name": "ipython",
    "version": 3
   },
   "file_extension": ".py",
   "mimetype": "text/x-python",
   "name": "python",
   "nbconvert_exporter": "python",
   "pygments_lexer": "ipython3",
   "version": "3.9.4"
  }
 },
 "nbformat": 4,
 "nbformat_minor": 4
}
