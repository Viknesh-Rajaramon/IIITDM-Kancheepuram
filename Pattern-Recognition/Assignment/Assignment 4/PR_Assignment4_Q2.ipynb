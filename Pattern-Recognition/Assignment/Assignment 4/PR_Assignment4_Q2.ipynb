{
 "cells": [
  {
   "cell_type": "markdown",
   "metadata": {
    "id": "ailHsPd-iwln"
   },
   "source": [
    "# Q2. Train a **single perceptron and SVM** to learn the two classes in the following table.\n",
    "\n",
    "$x_{1}$ |$x_{2}$ | $\\omega$\n",
    "--------|--------|---------\n",
    "2       |2       |1\n",
    "-1      |-3      |0 \n",
    "-1      |2       |1\n",
    "0       |-1      |0 \n",
    "1       |3       |1\n",
    "-1      |-2      |0 \n",
    "1       |-2      |0\n",
    "-1      |-1      |1 \n",
    "\n",
    "# where $x_{1}$ and $x_{2}$ are the inputs and $\\omega$ is the target class. Assume that all the weights of the perceptron are initialized as 0 with learning rate 0.01 and 0.5 separately. Also, tabulate the number of iterations required to converge the perception algorithm with these two learning rates."
   ]
  },
  {
   "cell_type": "markdown",
   "metadata": {
    "id": "zrIZfXBimJnw"
   },
   "source": [
    "### Importing the necessary libraries"
   ]
  },
  {
   "cell_type": "code",
   "execution_count": null,
   "metadata": {
    "id": "hfkp-_UfgGft"
   },
   "outputs": [],
   "source": [
    "import numpy as np\n",
    "import pandas as pd\n",
    "import matplotlib.pyplot as plt\n",
    "import seaborn as sns\n",
    "from cvxopt import matrix, solvers"
   ]
  },
  {
   "cell_type": "markdown",
   "metadata": {
    "id": "J1SGs5SGfpzk"
   },
   "source": [
    "## Single Perceptron"
   ]
  },
  {
   "cell_type": "markdown",
   "metadata": {
    "id": "KVKnfeijmL1Z"
   },
   "source": [
    "### Defining the necessary functions used"
   ]
  },
  {
   "cell_type": "code",
   "execution_count": null,
   "metadata": {
    "id": "rudkNbRTmOI7"
   },
   "outputs": [],
   "source": [
    "def decision_plot(w, x_min, x_max, y_min, y_max):\n",
    "    inp_0 = []\n",
    "    inp_1 = []\n",
    "\n",
    "    x_min = x_min - np.abs(((x_max - x_min) / 10))\n",
    "    y_min = y_min - np.abs(((y_max - y_min) / 10))\n",
    "\n",
    "    x_max = x_max + np.abs(((x_max - x_min) / 10))\n",
    "    y_max = y_max + np.abs(((y_max - y_min) / 10))\n",
    "\n",
    "    for i in np.arange(x_min, x_max, np.abs(x_max - x_min) / 100):\n",
    "        for j in np.arange(y_min, y_max, np.abs(x_max - x_min) / 100):\n",
    "            y_pred = np.dot(np.array([[1, i, j]]), w)\n",
    "            \n",
    "            if y_pred < 0:\n",
    "                inp_0.append(np.array((i, j)))\n",
    "            \n",
    "            else:\n",
    "                inp_1.append(np.array((i, j)))\n",
    "\n",
    "    return inp_0, inp_1"
   ]
  },
  {
   "cell_type": "code",
   "execution_count": null,
   "metadata": {
    "id": "oKU0BNajmP8m"
   },
   "outputs": [],
   "source": [
    "def perceptron_training_alg(X, Y, learning_rate):\n",
    "  # Adding Bias to the input and Randomly initializing weights\n",
    "  num_samples, num_features = X.shape\n",
    "  \n",
    "  X = np.hstack((np.ones((num_samples, 1)), X))\n",
    "  W = np.zeros(num_features + 1).reshape((-1, 1))\n",
    "\n",
    "  weight_vector = []\n",
    "  weight_vector.append(W)\n",
    "\n",
    "  print(W, \"\\n\")\n",
    "  \n",
    "  # Running the algorithm until all the data points are correctly classified\n",
    "  samples_misclassified = True\n",
    "  cnt=0\n",
    "  while samples_misclassified and cnt < 100000:\n",
    "    # Initially we'll assume that there are no misclassified samples\n",
    "    samples_misclassified = False\n",
    "    \n",
    "    for index, x in enumerate(X):\n",
    "      if cnt >= 100000:\n",
    "        return W, np.array(weight_vector)\n",
    "      \n",
    "      x = Y[index] * x\n",
    "      \n",
    "      if np.dot(x.reshape((1, -1)), W) <= 0: # if samples misclassified\n",
    "        samples_misclassified = True\n",
    "        W = W + (learning_rate * x.reshape((-1, 1)))     # Gradient Descent Step\n",
    "        weight_vector.append(W)\n",
    "\n",
    "        print(W, \"\\n\")\n",
    "        cnt += 1\n",
    "  \n",
    "  return W, np.array(weight_vector)"
   ]
  },
  {
   "cell_type": "code",
   "execution_count": null,
   "metadata": {
    "id": "qoU_t5YQmSxr"
   },
   "outputs": [],
   "source": [
    "def sorter(X, Y):\n",
    "  X_new0 = []\n",
    "  Y_new0 = []\n",
    "  \n",
    "  X_new1 = []\n",
    "  Y_new1 = []\n",
    "  \n",
    "  for x, y in zip(X, Y):\n",
    "    if y == 0:\n",
    "      Y_new0.append(y)\n",
    "      X_new0.append(x)\n",
    "    \n",
    "    else:\n",
    "      Y_new1.append(y)\n",
    "      X_new1.append(x)\n",
    "  \n",
    "  X0 = []\n",
    "  Y0 = []\n",
    "  \n",
    "  X1 = []\n",
    "  Y1 = []\n",
    "\n",
    "  if len(X_new0) > 0:\n",
    "    X0 = np.stack(X_new0)\n",
    "    Y0 = np.stack(Y_new0)\n",
    "  \n",
    "  elif len(X_new1) > 0:\n",
    "    X1 = np.stack(X_new1)\n",
    "    Y1 = np.stack(Y_new1)\n",
    "  \n",
    "  if len(X0) > 0 and len(X1) > 0:\n",
    "    X = np.concatenate((X0, X1))\n",
    "    Y = np.concatenate((Y0, Y1))\n",
    "  \n",
    "  elif len(X0) > 0:\n",
    "    X = X0\n",
    "    Y = Y0\n",
    "  \n",
    "  else:\n",
    "    X = X1\n",
    "    Y = Y1\n",
    "  \n",
    "  return X, Y"
   ]
  },
  {
   "cell_type": "code",
   "execution_count": null,
   "metadata": {
    "id": "8g7zgpC3qVzM"
   },
   "outputs": [],
   "source": [
    "def decision_boundary(W, X, Y):\n",
    "  X, Y = sorter(X, Y)\n",
    "  num_samples, num_features = X.shape\n",
    "  np2 = np.hstack((np.ones((num_samples, 1)), X))\n",
    "  \n",
    "  X=np2\n",
    "  \n",
    "  x1, y1 = decision_plot(W, min(X[:,1]), max(X[:,1]), min(X[:,2]), max(X[:,2]))\n",
    "  \n",
    "  plt.scatter([i[0] for i in x1], [i[1] for i in x1])\n",
    "  plt.scatter([i[0] for i in y1], [i[1] for i in y1])\n",
    "  plt.scatter(X[:np.argmax(Y), 1], X[:np.argmax(Y), 2])\n",
    "  plt.scatter(X[np.argmax(Y):, 1], X[np.argmax(Y):, 2])\n",
    "  plt.show()"
   ]
  },
  {
   "cell_type": "markdown",
   "metadata": {
    "id": "3-qhy35NmUVz"
   },
   "source": [
    "### Code"
   ]
  },
  {
   "cell_type": "code",
   "execution_count": null,
   "metadata": {
    "colab": {
     "base_uri": "https://localhost:8080/"
    },
    "id": "f7G8RJMEmWL8",
    "outputId": "96b458d5-5963-4422-c2ee-4f713f4c9948"
   },
   "outputs": [
    {
     "data": {
      "text/plain": [
       "8"
      ]
     },
     "execution_count": 19,
     "metadata": {
      "tags": []
     },
     "output_type": "execute_result"
    }
   ],
   "source": [
    "X = np.array([[2, 2], [-1, -3], [-1, 2], [0, -1], [1, 3], [-1, -2], [1, -2], [-1, -1]])\n",
    "Y = [[1], [-1], [1], [-1], [1], [-1], [-1], [1]]\n",
    "ans = [[1], [0], [1], [0], [1], [0], [0], [1]]\n",
    "\n",
    "len(X)"
   ]
  },
  {
   "cell_type": "markdown",
   "metadata": {
    "id": "coA_Hcq0mo8h"
   },
   "source": [
    "#### Learning Rate = 0.01"
   ]
  },
  {
   "cell_type": "code",
   "execution_count": null,
   "metadata": {
    "colab": {
     "base_uri": "https://localhost:8080/"
    },
    "id": "rjICHlghmbQH",
    "outputId": "15ac1a0a-486b-468e-ec25-d8222abc317e"
   },
   "outputs": [
    {
     "name": "stdout",
     "output_type": "stream",
     "text": [
      "[[0.]\n",
      " [0.]\n",
      " [0.]] \n",
      "\n",
      "[[0.01]\n",
      " [0.02]\n",
      " [0.02]] \n",
      "\n",
      "[[0.02]\n",
      " [0.01]\n",
      " [0.01]] \n",
      "\n",
      "[[0.01]\n",
      " [0.01]\n",
      " [0.02]] \n",
      "\n",
      "[[0.02]\n",
      " [0.  ]\n",
      " [0.01]] \n",
      "\n",
      "[[0.01]\n",
      " [0.  ]\n",
      " [0.02]] \n",
      "\n",
      "[[ 0.02]\n",
      " [-0.01]\n",
      " [ 0.01]] \n",
      "\n",
      "[[ 0.01]\n",
      " [-0.01]\n",
      " [ 0.02]] \n",
      "\n",
      "[[ 0.02]\n",
      " [-0.02]\n",
      " [ 0.01]] \n",
      "\n",
      "[[0.03]\n",
      " [0.  ]\n",
      " [0.03]] \n",
      "\n",
      "[[0.02]\n",
      " [0.  ]\n",
      " [0.04]] \n",
      "\n",
      "[[ 0.03]\n",
      " [-0.01]\n",
      " [ 0.03]] \n",
      "\n",
      "[[ 0.02]\n",
      " [-0.01]\n",
      " [ 0.04]] \n",
      "\n",
      "[[ 0.03]\n",
      " [-0.02]\n",
      " [ 0.03]] \n",
      "\n",
      "[[ 0.02]\n",
      " [-0.02]\n",
      " [ 0.04]] \n",
      "\n",
      "[[ 0.03]\n",
      " [-0.03]\n",
      " [ 0.03]] \n",
      "\n",
      "[[ 0.02]\n",
      " [-0.03]\n",
      " [ 0.04]] \n",
      "\n"
     ]
    }
   ],
   "source": [
    "W1, weight_vector1 = perceptron_training_alg(X, Y, 0.01)"
   ]
  },
  {
   "cell_type": "code",
   "execution_count": null,
   "metadata": {
    "colab": {
     "base_uri": "https://localhost:8080/"
    },
    "id": "P5JF3G74mu_G",
    "outputId": "0acbc0e1-acb1-42a4-c190-db892a362036"
   },
   "outputs": [
    {
     "data": {
      "text/plain": [
       "array([[ 0.02],\n",
       "       [-0.03],\n",
       "       [ 0.04]])"
      ]
     },
     "execution_count": 21,
     "metadata": {
      "tags": []
     },
     "output_type": "execute_result"
    }
   ],
   "source": [
    "W1"
   ]
  },
  {
   "cell_type": "code",
   "execution_count": null,
   "metadata": {
    "colab": {
     "base_uri": "https://localhost:8080/"
    },
    "id": "rKTmC07GjFEV",
    "outputId": "657f7784-c6e6-441e-e23e-bdc702a61634"
   },
   "outputs": [
    {
     "data": {
      "text/plain": [
       "array([[[ 0.  ],\n",
       "        [ 0.  ],\n",
       "        [ 0.  ]],\n",
       "\n",
       "       [[ 0.01],\n",
       "        [ 0.02],\n",
       "        [ 0.02]],\n",
       "\n",
       "       [[ 0.02],\n",
       "        [ 0.01],\n",
       "        [ 0.01]],\n",
       "\n",
       "       [[ 0.01],\n",
       "        [ 0.01],\n",
       "        [ 0.02]],\n",
       "\n",
       "       [[ 0.02],\n",
       "        [ 0.  ],\n",
       "        [ 0.01]],\n",
       "\n",
       "       [[ 0.01],\n",
       "        [ 0.  ],\n",
       "        [ 0.02]],\n",
       "\n",
       "       [[ 0.02],\n",
       "        [-0.01],\n",
       "        [ 0.01]],\n",
       "\n",
       "       [[ 0.01],\n",
       "        [-0.01],\n",
       "        [ 0.02]],\n",
       "\n",
       "       [[ 0.02],\n",
       "        [-0.02],\n",
       "        [ 0.01]],\n",
       "\n",
       "       [[ 0.03],\n",
       "        [ 0.  ],\n",
       "        [ 0.03]],\n",
       "\n",
       "       [[ 0.02],\n",
       "        [ 0.  ],\n",
       "        [ 0.04]],\n",
       "\n",
       "       [[ 0.03],\n",
       "        [-0.01],\n",
       "        [ 0.03]],\n",
       "\n",
       "       [[ 0.02],\n",
       "        [-0.01],\n",
       "        [ 0.04]],\n",
       "\n",
       "       [[ 0.03],\n",
       "        [-0.02],\n",
       "        [ 0.03]],\n",
       "\n",
       "       [[ 0.02],\n",
       "        [-0.02],\n",
       "        [ 0.04]],\n",
       "\n",
       "       [[ 0.03],\n",
       "        [-0.03],\n",
       "        [ 0.03]],\n",
       "\n",
       "       [[ 0.02],\n",
       "        [-0.03],\n",
       "        [ 0.04]]])"
      ]
     },
     "execution_count": 22,
     "metadata": {
      "tags": []
     },
     "output_type": "execute_result"
    }
   ],
   "source": [
    "weight_vector1"
   ]
  },
  {
   "cell_type": "code",
   "execution_count": null,
   "metadata": {
    "colab": {
     "base_uri": "https://localhost:8080/",
     "height": 1000
    },
    "id": "WMjKAQptmqR0",
    "outputId": "5c96d085-61d1-4428-a6dd-0bfd64def81b"
   },
   "outputs": [
    {
     "data": {
      "image/png": "[encoded data removed]",
      "text/plain": [
       "<Figure size 432x288 with 1 Axes>"
      ]
     },
     "metadata": {
      "needs_background": "light",
      "tags": []
     },
     "output_type": "display_data"
    },
    {
     "data": {
      "image/png": "[encoded data removed]",
      "text/plain": [
       "<Figure size 432x288 with 1 Axes>"
      ]
     },
     "metadata": {
      "needs_background": "light",
      "tags": []
     },
     "output_type": "display_data"
    },
    {
     "data": {
      "image/png": "[encoded data removed]",
      "text/plain": [
       "<Figure size 432x288 with 1 Axes>"
      ]
     },
     "metadata": {
      "needs_background": "light",
      "tags": []
     },
     "output_type": "display_data"
    },
    {
     "data": {
      "image/png": "[encoded data removed]",
      "text/plain": [
       "<Figure size 432x288 with 1 Axes>"
      ]
     },
     "metadata": {
      "needs_background": "light",
      "tags": []
     },
     "output_type": "display_data"
    },
    {
     "data": {
      "image/png": "[encoded data removed]",
      "text/plain": [
       "<Figure size 432x288 with 1 Axes>"
      ]
     },
     "metadata": {
      "needs_background": "light",
      "tags": []
     },
     "output_type": "display_data"
    },
    {
     "data": {
      "image/png": "[encoded data removed]",
      "text/plain": [
       "<Figure size 432x288 with 1 Axes>"
      ]
     },
     "metadata": {
      "needs_background": "light",
      "tags": []
     },
     "output_type": "display_data"
    },
    {
     "data": {
      "image/png": "[encoded data removed]",
      "text/plain": [
       "<Figure size 432x288 with 1 Axes>"
      ]
     },
     "metadata": {
      "needs_background": "light",
      "tags": []
     },
     "output_type": "display_data"
    },
    {
     "data": {
      "image/png": "[encoded data removed]",
      "text/plain": [
       "<Figure size 432x288 with 1 Axes>"
      ]
     },
     "metadata": {
      "needs_background": "light",
      "tags": []
     },
     "output_type": "display_data"
    },
    {
     "data": {
      "image/png": "[encoded data removed]",
      "text/plain": [
       "<Figure size 432x288 with 1 Axes>"
      ]
     },
     "metadata": {
      "needs_background": "light",
      "tags": []
     },
     "output_type": "display_data"
    },
    {
     "data": {
      "image/png": "[encoded data removed]",
      "text/plain": [
       "<Figure size 432x288 with 1 Axes>"
      ]
     },
     "metadata": {
      "needs_background": "light",
      "tags": []
     },
     "output_type": "display_data"
    },
    {
     "data": {
      "image/png": "[encoded data removed]",
      "text/plain": [
       "<Figure size 432x288 with 1 Axes>"
      ]
     },
     "metadata": {
      "needs_background": "light",
      "tags": []
     },
     "output_type": "display_data"
    },
    {
     "data": {
      "image/png": "[encoded data removed]",
      "text/plain": [
       "<Figure size 432x288 with 1 Axes>"
      ]
     },
     "metadata": {
      "needs_background": "light",
      "tags": []
     },
     "output_type": "display_data"
    },
    {
     "data": {
      "image/png": "[encoded data removed]",
      "text/plain": [
       "<Figure size 432x288 with 1 Axes>"
      ]
     },
     "metadata": {
      "needs_background": "light",
      "tags": []
     },
     "output_type": "display_data"
    },
    {
     "data": {
      "image/png": "[encoded data removed]",
      "text/plain": [
       "<Figure size 432x288 with 1 Axes>"
      ]
     },
     "metadata": {
      "needs_background": "light",
      "tags": []
     },
     "output_type": "display_data"
    },
    {
     "data": {
      "image/png": "[encoded data removed]",
      "text/plain": [
       "<Figure size 432x288 with 1 Axes>"
      ]
     },
     "metadata": {
      "needs_background": "light",
      "tags": []
     },
     "output_type": "display_data"
    },
    {
     "data": {
      "image/png": "[encoded data removed]",
      "text/plain": [
       "<Figure size 432x288 with 1 Axes>"
      ]
     },
     "metadata": {
      "needs_background": "light",
      "tags": []
     },
     "output_type": "display_data"
    },
    {
     "data": {
      "image/png": "[encoded data removed]",
      "text/plain": [
       "<Figure size 432x288 with 1 Axes>"
      ]
     },
     "metadata": {
      "needs_background": "light",
      "tags": []
     },
     "output_type": "display_data"
    }
   ],
   "source": [
    "for w in weight_vector1:\n",
    "  decision_boundary(w, X, ans)"
   ]
  },
  {
   "cell_type": "markdown",
   "metadata": {
    "id": "kYJXFZ_ZmyQw"
   },
   "source": [
    "#### Learning Rate = 0.5"
   ]
  },
  {
   "cell_type": "code",
   "execution_count": null,
   "metadata": {
    "colab": {
     "base_uri": "https://localhost:8080/"
    },
    "id": "MEmGF5F3miUG",
    "outputId": "4bcdba88-37bb-4ffd-fd82-d8ee6e2b45fe"
   },
   "outputs": [
    {
     "name": "stdout",
     "output_type": "stream",
     "text": [
      "[[0.]\n",
      " [0.]\n",
      " [0.]] \n",
      "\n",
      "[[0.5]\n",
      " [1. ]\n",
      " [1. ]] \n",
      "\n",
      "[[1. ]\n",
      " [0.5]\n",
      " [0.5]] \n",
      "\n",
      "[[0.5]\n",
      " [0.5]\n",
      " [1. ]] \n",
      "\n",
      "[[1. ]\n",
      " [0. ]\n",
      " [0.5]] \n",
      "\n",
      "[[0.5]\n",
      " [0. ]\n",
      " [1. ]] \n",
      "\n",
      "[[ 1. ]\n",
      " [-0.5]\n",
      " [ 0.5]] \n",
      "\n",
      "[[0.5]\n",
      " [0. ]\n",
      " [2. ]] \n",
      "\n",
      "[[ 1. ]\n",
      " [-0.5]\n",
      " [ 1.5]] \n",
      "\n",
      "[[ 1.5]\n",
      " [-1. ]\n",
      " [ 1. ]] \n",
      "\n",
      "[[ 1. ]\n",
      " [-1. ]\n",
      " [ 1.5]] \n",
      "\n"
     ]
    }
   ],
   "source": [
    "W2, weight_vector2 = perceptron_training_alg(X,Y,0.5)"
   ]
  },
  {
   "cell_type": "code",
   "execution_count": null,
   "metadata": {
    "colab": {
     "base_uri": "https://localhost:8080/"
    },
    "id": "6VeYObLPnTZV",
    "outputId": "4402b303-bd01-4195-a9a9-dd33dd9324c1"
   },
   "outputs": [
    {
     "data": {
      "text/plain": [
       "array([[ 1. ],\n",
       "       [-1. ],\n",
       "       [ 1.5]])"
      ]
     },
     "execution_count": 25,
     "metadata": {
      "tags": []
     },
     "output_type": "execute_result"
    }
   ],
   "source": [
    "W2"
   ]
  },
  {
   "cell_type": "code",
   "execution_count": null,
   "metadata": {
    "colab": {
     "base_uri": "https://localhost:8080/"
    },
    "id": "hWk-zl2ujKMT",
    "outputId": "44048d97-c8d6-48dd-e4e3-1943ee9cfb7f"
   },
   "outputs": [
    {
     "data": {
      "text/plain": [
       "array([[[ 0. ],\n",
       "        [ 0. ],\n",
       "        [ 0. ]],\n",
       "\n",
       "       [[ 0.5],\n",
       "        [ 1. ],\n",
       "        [ 1. ]],\n",
       "\n",
       "       [[ 1. ],\n",
       "        [ 0.5],\n",
       "        [ 0.5]],\n",
       "\n",
       "       [[ 0.5],\n",
       "        [ 0.5],\n",
       "        [ 1. ]],\n",
       "\n",
       "       [[ 1. ],\n",
       "        [ 0. ],\n",
       "        [ 0.5]],\n",
       "\n",
       "       [[ 0.5],\n",
       "        [ 0. ],\n",
       "        [ 1. ]],\n",
       "\n",
       "       [[ 1. ],\n",
       "        [-0.5],\n",
       "        [ 0.5]],\n",
       "\n",
       "       [[ 0.5],\n",
       "        [ 0. ],\n",
       "        [ 2. ]],\n",
       "\n",
       "       [[ 1. ],\n",
       "        [-0.5],\n",
       "        [ 1.5]],\n",
       "\n",
       "       [[ 1.5],\n",
       "        [-1. ],\n",
       "        [ 1. ]],\n",
       "\n",
       "       [[ 1. ],\n",
       "        [-1. ],\n",
       "        [ 1.5]]])"
      ]
     },
     "execution_count": 26,
     "metadata": {
      "tags": []
     },
     "output_type": "execute_result"
    }
   ],
   "source": [
    "weight_vector2"
   ]
  },
  {
   "cell_type": "code",
   "execution_count": null,
   "metadata": {
    "colab": {
     "base_uri": "https://localhost:8080/",
     "height": 1000
    },
    "id": "4hJaeHBenTjS",
    "outputId": "5788b4af-3903-4445-badc-6e895577f206"
   },
   "outputs": [
    {
     "data": {
      "image/png": "[encoded data removed]",
      "text/plain": [
       "<Figure size 432x288 with 1 Axes>"
      ]
     },
     "metadata": {
      "needs_background": "light",
      "tags": []
     },
     "output_type": "display_data"
    },
    {
     "data": {
      "image/png": "[encoded data removed]",
      "text/plain": [
       "<Figure size 432x288 with 1 Axes>"
      ]
     },
     "metadata": {
      "needs_background": "light",
      "tags": []
     },
     "output_type": "display_data"
    },
    {
     "data": {
      "image/png": "[encoded data removed]",
      "text/plain": [
       "<Figure size 432x288 with 1 Axes>"
      ]
     },
     "metadata": {
      "needs_background": "light",
      "tags": []
     },
     "output_type": "display_data"
    },
    {
     "data": {
      "image/png": "[encoded data removed]",
      "text/plain": [
       "<Figure size 432x288 with 1 Axes>"
      ]
     },
     "metadata": {
      "needs_background": "light",
      "tags": []
     },
     "output_type": "display_data"
    },
    {
     "data": {
      "image/png": "[encoded data removed]",
      "text/plain": [
       "<Figure size 432x288 with 1 Axes>"
      ]
     },
     "metadata": {
      "needs_background": "light",
      "tags": []
     },
     "output_type": "display_data"
    },
    {
     "data": {
      "image/png": "[encoded data removed]",
      "text/plain": [
       "<Figure size 432x288 with 1 Axes>"
      ]
     },
     "metadata": {
      "needs_background": "light",
      "tags": []
     },
     "output_type": "display_data"
    },
    {
     "data": {
      "image/png": "[encoded data removed]",
      "text/plain": [
       "<Figure size 432x288 with 1 Axes>"
      ]
     },
     "metadata": {
      "needs_background": "light",
      "tags": []
     },
     "output_type": "display_data"
    },
    {
     "data": {
      "image/png": "[encoded data removed]",
      "text/plain": [
       "<Figure size 432x288 with 1 Axes>"
      ]
     },
     "metadata": {
      "needs_background": "light",
      "tags": []
     },
     "output_type": "display_data"
    },
    {
     "data": {
      "image/png": "[encoded data removed]",
      "text/plain": [
       "<Figure size 432x288 with 1 Axes>"
      ]
     },
     "metadata": {
      "needs_background": "light",
      "tags": []
     },
     "output_type": "display_data"
    },
    {
     "data": {
      "image/png": "[encoded data removed]",
      "text/plain": [
       "<Figure size 432x288 with 1 Axes>"
      ]
     },
     "metadata": {
      "needs_background": "light",
      "tags": []
     },
     "output_type": "display_data"
    },
    {
     "data": {
      "image/png": "[encoded data removed]",
      "text/plain": [
       "<Figure size 432x288 with 1 Axes>"
      ]
     },
     "metadata": {
      "needs_background": "light",
      "tags": []
     },
     "output_type": "display_data"
    }
   ],
   "source": [
    "for w in weight_vector2:\n",
    "  decision_boundary(w, X, ans)"
   ]
  },
  {
   "cell_type": "markdown",
   "metadata": {
    "id": "aI_y1f6Zfve1"
   },
   "source": [
    "## SVM"
   ]
  },
  {
   "cell_type": "markdown",
   "metadata": {
    "id": "iHy3ZcGLxyHH"
   },
   "source": [
    "### Defining the necessary functions used"
   ]
  },
  {
   "cell_type": "code",
   "execution_count": null,
   "metadata": {
    "id": "XzD_uzFLfyBb"
   },
   "outputs": [],
   "source": [
    "def SVM(C1, C2):\n",
    "  x1 = np.array(C1.to_numpy())\n",
    "  x2 = np.array(C2.to_numpy())\n",
    "\n",
    "  x = np.vstack((x1, x2))\n",
    "  y = np.hstack((np.ones(len(x1)), np.ones(len(x2)) * -1))\n",
    "  \n",
    "  X = np.dot(x, np.transpose(x))\n",
    "  Y = np.outer(y, y)\n",
    "\n",
    "  n = X.shape[0]\n",
    "\n",
    "  H = matrix(Y * X)\n",
    "  f = matrix(np.ones(n) * -1)\n",
    "  A = matrix(np.diag(np.ones(n) * -1))\n",
    "  a = matrix(np.zeros(n))\n",
    "  B = matrix(y, (1, n))  \n",
    "  b = matrix(0.0)\n",
    "  \n",
    "  # solve QP problem\n",
    "  solution = solvers.qp(H, f, A, a, B, b)\n",
    "  print('')\n",
    "\n",
    "  # Lagrange multipliers\n",
    "  t1 = np.ravel(solution['x'])\n",
    "  \n",
    "  # Support vectors have non zero lagrange multipliers\n",
    "  for i in range(0, len(t1)):\n",
    "    if(t1[i] < 1e-4):\n",
    "      t1[i] = 0.0\n",
    "    else:\n",
    "      t1[i] = round(t1[i], 4)\n",
    "  \n",
    "  t1 = np.array(t1)\n",
    "  print(t1)\n",
    "\n",
    "  # Weight vector\n",
    "  w = np.zeros(X.shape[1])\n",
    "  for i in range(X.shape[1]):\n",
    "    w[i] = t1[i] * y[i]\n",
    "  \n",
    "  w = np.dot(w, x)\n",
    "  \n",
    "  # Intercept\n",
    "  b = 0\n",
    "  for i in range(len(t1)):\n",
    "    if(t1[i] != 0.0):\n",
    "      b = round(1 - np.dot(w, np.transpose(x[i])), 4)\n",
    "      break\n",
    "  \n",
    "  return w, b"
   ]
  },
  {
   "cell_type": "markdown",
   "metadata": {
    "id": "mIhYmGw7xyrs"
   },
   "source": [
    "### Code"
   ]
  },
  {
   "cell_type": "code",
   "execution_count": null,
   "metadata": {
    "colab": {
     "base_uri": "https://localhost:8080/",
     "height": 166
    },
    "id": "WjPATUEsxzsQ",
    "outputId": "382b57fd-9036-4895-c529-c58eb6c8a022"
   },
   "outputs": [
    {
     "data": {
      "text/html": [
       "<div>\n",
       "<style scoped>\n",
       "    .dataframe tbody tr th:only-of-type {\n",
       "        vertical-align: middle;\n",
       "    }\n",
       "\n",
       "    .dataframe tbody tr th {\n",
       "        vertical-align: top;\n",
       "    }\n",
       "\n",
       "    .dataframe thead th {\n",
       "        text-align: right;\n",
       "    }\n",
       "</style>\n",
       "<table border=\"1\" class=\"dataframe\">\n",
       "  <thead>\n",
       "    <tr style=\"text-align: right;\">\n",
       "      <th></th>\n",
       "      <th>0</th>\n",
       "      <th>1</th>\n",
       "    </tr>\n",
       "  </thead>\n",
       "  <tbody>\n",
       "    <tr>\n",
       "      <th>0</th>\n",
       "      <td>-1</td>\n",
       "      <td>-3</td>\n",
       "    </tr>\n",
       "    <tr>\n",
       "      <th>1</th>\n",
       "      <td>0</td>\n",
       "      <td>-1</td>\n",
       "    </tr>\n",
       "    <tr>\n",
       "      <th>2</th>\n",
       "      <td>-1</td>\n",
       "      <td>-2</td>\n",
       "    </tr>\n",
       "    <tr>\n",
       "      <th>3</th>\n",
       "      <td>1</td>\n",
       "      <td>-2</td>\n",
       "    </tr>\n",
       "  </tbody>\n",
       "</table>\n",
       "</div>"
      ],
      "text/plain": [
       "   0  1\n",
       "0 -1 -3\n",
       "1  0 -1\n",
       "2 -1 -2\n",
       "3  1 -2"
      ]
     },
     "execution_count": 29,
     "metadata": {
      "tags": []
     },
     "output_type": "execute_result"
    }
   ],
   "source": [
    "X = [[-1, -3], [0, -1], [-1, -2], [1, -2]]\n",
    "\n",
    "C1 = pd.DataFrame(X)\n",
    "C1"
   ]
  },
  {
   "cell_type": "code",
   "execution_count": null,
   "metadata": {
    "colab": {
     "base_uri": "https://localhost:8080/",
     "height": 166
    },
    "id": "RhIZ9efGJ3kB",
    "outputId": "23aa6261-c533-483d-ab41-da5981f1848c"
   },
   "outputs": [
    {
     "data": {
      "text/html": [
       "<div>\n",
       "<style scoped>\n",
       "    .dataframe tbody tr th:only-of-type {\n",
       "        vertical-align: middle;\n",
       "    }\n",
       "\n",
       "    .dataframe tbody tr th {\n",
       "        vertical-align: top;\n",
       "    }\n",
       "\n",
       "    .dataframe thead th {\n",
       "        text-align: right;\n",
       "    }\n",
       "</style>\n",
       "<table border=\"1\" class=\"dataframe\">\n",
       "  <thead>\n",
       "    <tr style=\"text-align: right;\">\n",
       "      <th></th>\n",
       "      <th>0</th>\n",
       "      <th>1</th>\n",
       "    </tr>\n",
       "  </thead>\n",
       "  <tbody>\n",
       "    <tr>\n",
       "      <th>0</th>\n",
       "      <td>2</td>\n",
       "      <td>2</td>\n",
       "    </tr>\n",
       "    <tr>\n",
       "      <th>1</th>\n",
       "      <td>-1</td>\n",
       "      <td>2</td>\n",
       "    </tr>\n",
       "    <tr>\n",
       "      <th>2</th>\n",
       "      <td>1</td>\n",
       "      <td>3</td>\n",
       "    </tr>\n",
       "    <tr>\n",
       "      <th>3</th>\n",
       "      <td>-1</td>\n",
       "      <td>-1</td>\n",
       "    </tr>\n",
       "  </tbody>\n",
       "</table>\n",
       "</div>"
      ],
      "text/plain": [
       "   0  1\n",
       "0  2  2\n",
       "1 -1  2\n",
       "2  1  3\n",
       "3 -1 -1"
      ]
     },
     "execution_count": 30,
     "metadata": {
      "tags": []
     },
     "output_type": "execute_result"
    }
   ],
   "source": [
    "X = [[2, 2], [-1, 2], [1, 3], [-1, -1]]\n",
    "\n",
    "C2 = pd.DataFrame(X)\n",
    "C2"
   ]
  },
  {
   "cell_type": "code",
   "execution_count": null,
   "metadata": {
    "colab": {
     "base_uri": "https://localhost:8080/"
    },
    "id": "mzgA2fbTyRWz",
    "outputId": "c350b7f4-ebe5-4b5d-d53e-3ff63ddce54f"
   },
   "outputs": [
    {
     "name": "stdout",
     "output_type": "stream",
     "text": [
      "     pcost       dcost       gap    pres   dres\n",
      " 0: -2.2863e+00 -5.2491e+00  2e+01  3e+00  2e+00\n",
      " 1: -6.6436e+00 -7.0845e+00  6e+00  1e+00  7e-01\n",
      " 2: -3.2806e+00 -4.6847e+00  1e+00  1e-15  1e-14\n",
      " 3: -3.9727e+00 -4.0106e+00  4e-02  1e-15  3e-15\n",
      " 4: -3.9997e+00 -4.0001e+00  4e-04  1e-15  9e-16\n",
      " 5: -4.0000e+00 -4.0000e+00  4e-06  9e-16  1e-15\n",
      "Optimal solution found.\n",
      "\n",
      "[0.     3.3296 0.6704 0.     0.4432 0.     0.     3.5568]\n",
      "[ 2. -2.]\n",
      "\n",
      "-1.0\n"
     ]
    }
   ],
   "source": [
    "w, b = SVM(C1, C2)\n",
    "\n",
    "\n",
    "print(w)\n",
    "print('')\n",
    "print(b)"
   ]
  },
  {
   "cell_type": "code",
   "execution_count": null,
   "metadata": {
    "colab": {
     "base_uri": "https://localhost:8080/"
    },
    "id": "rN8RGWHuySgH",
    "outputId": "efc4bf7c-ab23-48ca-fe60-d7e6d5b3bfc8"
   },
   "outputs": [
    {
     "data": {
      "image/png": "[encoded data removed]",
      "text/plain": [
       "<Figure size 432x288 with 1 Axes>"
      ]
     },
     "metadata": {
      "needs_background": "light",
      "tags": []
     },
     "output_type": "display_data"
    }
   ],
   "source": [
    "x1 = np.arange(-1.2, 2.2, 0.1)\n",
    "\n",
    "plt.scatter(C1.iloc[:, [0]], C1.iloc[:, [1]], label = 'Class 1', color = '#FF0000')\n",
    "plt.scatter(C2.iloc[:, [0]], C2.iloc[:, [1]], label = 'Class 2', color = '#00FF00')\n",
    "plt.legend()\n",
    "  \n",
    "slope, c = -w[0] / w[1], -b / w[1]\n",
    "plt.plot(x1, slope * x1 + c)\n",
    "plt.show()"
   ]
  }
 ],
 "metadata": {
  "colab": {
   "collapsed_sections": [],
   "name": "PR_Assignment4_Q2.ipynb",
   "provenance": []
  },
  "kernelspec": {
   "display_name": "Python 3",
   "language": "python",
   "name": "python3"
  },
  "language_info": {
   "codemirror_mode": {
    "name": "ipython",
    "version": 3
   },
   "file_extension": ".py",
   "mimetype": "text/x-python",
   "name": "python",
   "nbconvert_exporter": "python",
   "pygments_lexer": "ipython3",
   "version": "3.9.4"
  }
 },
 "nbformat": 4,
 "nbformat_minor": 4
}
